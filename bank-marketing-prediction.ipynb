{
 "cells": [
  {
   "cell_type": "markdown",
   "id": "a4790e73-119f-40d6-9382-55c0d4013b2b",
   "metadata": {
    "jp-MarkdownHeadingCollapsed": true
   },
   "source": [
    "## Importing Libraries and Dataset"
   ]
  },
  {
   "cell_type": "code",
   "execution_count": 1,
   "id": "d66b22dc",
   "metadata": {
    "papermill": {
     "duration": 3.816826,
     "end_time": "2025-09-19T07:44:07.433041",
     "exception": false,
     "start_time": "2025-09-19T07:44:03.616215",
     "status": "completed"
    },
    "tags": []
   },
   "outputs": [],
   "source": [
    "import pandas as pd\n",
    "import numpy as np\n",
    "import matplotlib.pyplot as plt\n",
    "import seaborn as sns\n",
    "from sklearn.model_selection import train_test_split\n",
    "from sklearn.preprocessing import LabelEncoder, StandardScaler\n",
    "from sklearn.linear_model import LogisticRegression\n",
    "from sklearn.svm import SVC\n",
    "from sklearn.tree import DecisionTreeClassifier\n",
    "from sklearn.ensemble import RandomForestClassifier\n",
    "from sklearn.neighbors import KNeighborsClassifier\n",
    "from sklearn.naive_bayes import GaussianNB\n",
    "from sklearn.metrics import accuracy_score, classification_report, confusion_matrix"
   ]
  },
  {
   "cell_type": "code",
   "execution_count": 2,
   "id": "7f6759a5",
   "metadata": {
    "papermill": {
     "duration": 0.079914,
     "end_time": "2025-09-19T07:44:07.516927",
     "exception": false,
     "start_time": "2025-09-19T07:44:07.437013",
     "status": "completed"
    },
    "tags": []
   },
   "outputs": [],
   "source": [
    "data = pd.read_csv('bank-marketing-cleaned.csv',usecols=['age', 'job', 'marital', 'education', 'default', 'balance', 'housing',\n",
    "       'loan', 'contact', 'duration', 'campaign', 'pdays', 'previous','poutcome'])\n",
    "\n",
    "data.head()\n",
    "\n",
    "y=pd.read_csv('outcome.csv')"
   ]
  },
  {
   "cell_type": "code",
   "execution_count": 3,
   "id": "4f851708",
   "metadata": {
    "papermill": {
     "duration": 0.069113,
     "end_time": "2025-09-19T07:44:07.589980",
     "exception": false,
     "start_time": "2025-09-19T07:44:07.520867",
     "status": "completed"
    },
    "tags": []
   },
   "outputs": [
    {
     "name": "stdout",
     "output_type": "stream",
     "text": [
      "<class 'pandas.core.frame.DataFrame'>\n",
      "RangeIndex: 45211 entries, 0 to 45210\n",
      "Data columns (total 14 columns):\n",
      " #   Column     Non-Null Count  Dtype \n",
      "---  ------     --------------  ----- \n",
      " 0   age        45211 non-null  int64 \n",
      " 1   job        45211 non-null  object\n",
      " 2   marital    45211 non-null  object\n",
      " 3   education  45211 non-null  object\n",
      " 4   default    45211 non-null  object\n",
      " 5   balance    45211 non-null  int64 \n",
      " 6   housing    45211 non-null  object\n",
      " 7   loan       45211 non-null  object\n",
      " 8   contact    45211 non-null  object\n",
      " 9   duration   45211 non-null  int64 \n",
      " 10  campaign   45211 non-null  int64 \n",
      " 11  pdays      45211 non-null  int64 \n",
      " 12  previous   45211 non-null  int64 \n",
      " 13  poutcome   45211 non-null  object\n",
      "dtypes: int64(6), object(8)\n",
      "memory usage: 4.8+ MB\n",
      "None\n",
      "                age        balance      duration      campaign         pdays  \\\n",
      "count  45211.000000   45211.000000  45211.000000  45211.000000  45211.000000   \n",
      "mean      40.936210    1362.272058    258.163080      2.763841     40.197828   \n",
      "std       10.618762    3044.765829    257.527812      3.098021    100.128746   \n",
      "min       18.000000   -8019.000000      0.000000      1.000000     -1.000000   \n",
      "25%       33.000000      72.000000    103.000000      1.000000     -1.000000   \n",
      "50%       39.000000     448.000000    180.000000      2.000000     -1.000000   \n",
      "75%       48.000000    1428.000000    319.000000      3.000000     -1.000000   \n",
      "max       95.000000  102127.000000   4918.000000     63.000000    871.000000   \n",
      "\n",
      "           previous  \n",
      "count  45211.000000  \n",
      "mean       0.580323  \n",
      "std        2.303441  \n",
      "min        0.000000  \n",
      "25%        0.000000  \n",
      "50%        0.000000  \n",
      "75%        0.000000  \n",
      "max      275.000000  \n",
      "age          0\n",
      "job          0\n",
      "marital      0\n",
      "education    0\n",
      "default      0\n",
      "balance      0\n",
      "housing      0\n",
      "loan         0\n",
      "contact      0\n",
      "duration     0\n",
      "campaign     0\n",
      "pdays        0\n",
      "previous     0\n",
      "poutcome     0\n",
      "dtype: int64\n",
      "job          11\n",
      "marital       3\n",
      "education     3\n",
      "default       2\n",
      "housing       2\n",
      "loan          2\n",
      "contact       3\n",
      "poutcome      3\n",
      "dtype: int64\n"
     ]
    }
   ],
   "source": [
    "\n",
    "print(data.info())\n",
    "\n",
    "print(data.describe())\n",
    "\n",
    "# Checking for missing values\n",
    "print(data.isnull().sum())\n",
    "\n",
    "# Check uniques for categorical columns\n",
    "print(data.select_dtypes(include='object').nunique())"
   ]
  },
  {
   "cell_type": "code",
   "execution_count": 4,
   "id": "8bdef322",
   "metadata": {
    "papermill": {
     "duration": 0.016499,
     "end_time": "2025-09-19T07:44:07.651720",
     "exception": false,
     "start_time": "2025-09-19T07:44:07.635221",
     "status": "completed"
    },
    "tags": []
   },
   "outputs": [
    {
     "name": "stdout",
     "output_type": "stream",
     "text": [
      "age          0\n",
      "job          0\n",
      "marital      0\n",
      "education    0\n",
      "default      0\n",
      "balance      0\n",
      "housing      0\n",
      "loan         0\n",
      "contact      0\n",
      "duration     0\n",
      "campaign     0\n",
      "pdays        0\n",
      "previous     0\n",
      "poutcome     0\n",
      "dtype: int64\n"
     ]
    }
   ],
   "source": [
    "print(data.isnull().sum())"
   ]
  },
  {
   "cell_type": "code",
   "execution_count": 5,
   "id": "da958a6d",
   "metadata": {
    "papermill": {
     "duration": 0.024874,
     "end_time": "2025-09-19T07:44:07.680271",
     "exception": false,
     "start_time": "2025-09-19T07:44:07.655397",
     "status": "completed"
    },
    "tags": []
   },
   "outputs": [
    {
     "name": "stdout",
     "output_type": "stream",
     "text": [
      "Unique values in job:\n",
      "job\n",
      "blue-collar      10020\n",
      "management        9458\n",
      "technician        7597\n",
      "admin.            5171\n",
      "services          4154\n",
      "retired           2264\n",
      "self-employed     1579\n",
      "entrepreneur      1487\n",
      "unemployed        1303\n",
      "housemaid         1240\n",
      "student            938\n",
      "Name: count, dtype: int64\n",
      "Unique values in marital:\n",
      "marital\n",
      "married     27214\n",
      "single      12790\n",
      "divorced     5207\n",
      "Name: count, dtype: int64\n",
      "Unique values in education:\n",
      "education\n",
      "secondary    25059\n",
      "tertiary     13301\n",
      "primary       6851\n",
      "Name: count, dtype: int64\n",
      "Unique values in default:\n",
      "default\n",
      "no     44396\n",
      "yes      815\n",
      "Name: count, dtype: int64\n",
      "Unique values in housing:\n",
      "housing\n",
      "yes    25130\n",
      "no     20081\n",
      "Name: count, dtype: int64\n",
      "Unique values in loan:\n",
      "loan\n",
      "no     37967\n",
      "yes     7244\n",
      "Name: count, dtype: int64\n",
      "Unique values in contact:\n",
      "contact\n",
      "cellular     29285\n",
      "secondary    13020\n",
      "telephone     2906\n",
      "Name: count, dtype: int64\n",
      "Unique values in poutcome:\n",
      "poutcome\n",
      "failure    41860\n",
      "other       1840\n",
      "success     1511\n",
      "Name: count, dtype: int64\n"
     ]
    }
   ],
   "source": [
    "categorical_columns = data.select_dtypes(include='object').columns\n",
    "for column in categorical_columns:\n",
    "    print(f\"Unique values in {column}:\")\n",
    "    print(data[column].value_counts())"
   ]
  },
  {
   "cell_type": "markdown",
   "id": "7fe1834d-0259-4b2f-820a-81ae42daf12e",
   "metadata": {
    "jp-MarkdownHeadingCollapsed": true
   },
   "source": [
    "## Exploratory Data Analysis"
   ]
  },
  {
   "cell_type": "code",
   "execution_count": 6,
   "id": "4c501b5a-8942-47bd-9cf5-56d9351ff0e0",
   "metadata": {},
   "outputs": [],
   "source": [
    "y.drop(columns='Unnamed: 0',axis=1,inplace=True)"
   ]
  },
  {
   "cell_type": "code",
   "execution_count": 7,
   "id": "1f056c81-14ac-4448-a3a3-c828256bb597",
   "metadata": {},
   "outputs": [
    {
     "data": {
      "image/png": "[encoded data removed]",
      "text/plain": [
       "<Figure size 640x480 with 1 Axes>"
      ]
     },
     "metadata": {},
     "output_type": "display_data"
    }
   ],
   "source": [
    "y.value_counts().plot(kind='pie',autopct='%1.1f')\n",
    "plt.show()"
   ]
  },
  {
   "cell_type": "markdown",
   "id": "e5eb8724-312f-492c-afec-123303ebae75",
   "metadata": {
    "jp-MarkdownHeadingCollapsed": true
   },
   "source": [
    "## Feature Engineering"
   ]
  },
  {
   "cell_type": "code",
   "execution_count": 8,
   "id": "656e33cd",
   "metadata": {
    "papermill": {
     "duration": 0.040637,
     "end_time": "2025-09-19T07:44:13.628458",
     "exception": false,
     "start_time": "2025-09-19T07:44:13.587821",
     "status": "completed"
    },
    "tags": []
   },
   "outputs": [],
   "source": [
    "# Step 3: Encoding Categorical Features\n",
    "label_encoder = LabelEncoder()\n",
    "\n",
    "# Encode categorical features\n",
    "categorical_columns = ['job', 'marital', 'education', 'default', 'housing', 'loan', 'contact', 'poutcome']\n",
    "for column in categorical_columns:\n",
    "    data[column] = label_encoder.fit_transform(data[column])\n",
    "\n",
    "# Encode the target variable 'deposit'\n",
    "y['y'] = label_encoder.fit_transform(y['y'])"
   ]
  },
  {
   "cell_type": "code",
   "execution_count": 9,
   "id": "49cb3f88",
   "metadata": {
    "papermill": {
     "duration": 0.052188,
     "end_time": "2025-09-19T07:44:13.690358",
     "exception": false,
     "start_time": "2025-09-19T07:44:13.638170",
     "status": "completed"
    },
    "tags": []
   },
   "outputs": [],
   "source": [
    "X=data\n",
    "y = np.ravel(y)\n",
    "# Scaling numerical features (optional but recommended for SVM)\n",
    "scaler = StandardScaler()\n",
    "X_scaled = scaler.fit_transform(X)\n",
    "\n",
    "# Splitting the data into training and testing sets (70% training, 30% testing)\n",
    "X_train, X_test, y_train, y_test = train_test_split(X_scaled, y, test_size=0.3, random_state=42)\n"
   ]
  },
  {
   "cell_type": "markdown",
   "id": "f44e2736-ab7b-42d1-ad34-44457a59273f",
   "metadata": {
    "jp-MarkdownHeadingCollapsed": true
   },
   "source": [
    "## Model Building & Selection"
   ]
  },
  {
   "cell_type": "code",
   "execution_count": 10,
   "id": "841cfaf0-5081-426f-acd8-cd79a89951ec",
   "metadata": {},
   "outputs": [
    {
     "name": "stdout",
     "output_type": "stream",
     "text": [
      "              precision    recall  f1-score   support\n",
      "\n",
      "           0       0.97      0.84      0.90     11966\n",
      "           1       0.39      0.78      0.52      1598\n",
      "\n",
      "    accuracy                           0.83     13564\n",
      "   macro avg       0.68      0.81      0.71     13564\n",
      "weighted avg       0.90      0.83      0.85     13564\n",
      "\n"
     ]
    }
   ],
   "source": [
    "log=LogisticRegression(random_state=42,class_weight='balanced')\n",
    "log.fit(X_train,y_train)\n",
    "\n",
    "log_pred=log.predict(X_test)\n",
    "print(classification_report(y_test,log_pred))"
   ]
  },
  {
   "cell_type": "code",
   "execution_count": 12,
   "id": "3a9aaa72-ee05-4331-b679-f02318dd84a0",
   "metadata": {},
   "outputs": [
    {
     "name": "stdout",
     "output_type": "stream",
     "text": [
      "              precision    recall  f1-score   support\n",
      "\n",
      "           0       0.92      0.96      0.94     11966\n",
      "           1       0.57      0.35      0.44      1598\n",
      "\n",
      "    accuracy                           0.89     13564\n",
      "   macro avg       0.75      0.66      0.69     13564\n",
      "weighted avg       0.88      0.89      0.88     13564\n",
      "\n"
     ]
    }
   ],
   "source": [
    "knn=KNeighborsClassifier()\n",
    "knn.fit(X_train,y_train)\n",
    "\n",
    "knn_pred=knn.predict(X_test)\n",
    "print(classification_report(y_test,knn_pred))"
   ]
  },
  {
   "cell_type": "code",
   "execution_count": 13,
   "id": "6471d30e-f8ea-41b8-90f8-8f95274ba7a7",
   "metadata": {},
   "outputs": [
    {
     "name": "stdout",
     "output_type": "stream",
     "text": [
      "              precision    recall  f1-score   support\n",
      "\n",
      "           0       0.93      0.92      0.92     11966\n",
      "           1       0.43      0.46      0.45      1598\n",
      "\n",
      "    accuracy                           0.87     13564\n",
      "   macro avg       0.68      0.69      0.69     13564\n",
      "weighted avg       0.87      0.87      0.87     13564\n",
      "\n"
     ]
    }
   ],
   "source": [
    "gauss=GaussianNB()\n",
    "gauss.fit(X_train,y_train)\n",
    "\n",
    "gauss_pred=gauss.predict(X_test)\n",
    "\n",
    "print(classification_report(y_test,gauss_pred))"
   ]
  },
  {
   "cell_type": "code",
   "execution_count": 14,
   "id": "fbae258f",
   "metadata": {
    "papermill": {
     "duration": 3.450691,
     "end_time": "2025-09-19T07:44:17.151641",
     "exception": false,
     "start_time": "2025-09-19T07:44:13.700950",
     "status": "completed"
    },
    "tags": []
   },
   "outputs": [
    {
     "name": "stdout",
     "output_type": "stream",
     "text": [
      "SVM Accuracy: 0.9\n",
      "              precision    recall  f1-score   support\n",
      "\n",
      "           0       0.91      0.98      0.94     11966\n",
      "           1       0.66      0.30      0.41      1598\n",
      "\n",
      "    accuracy                           0.90     13564\n",
      "   macro avg       0.79      0.64      0.68     13564\n",
      "weighted avg       0.88      0.90      0.88     13564\n",
      "\n"
     ]
    }
   ],
   "source": [
    "svm_model = SVC(kernel='rbf', random_state=42)\n",
    "svm_model.fit(X_train, y_train)\n",
    "\n",
    "svm_predictions = svm_model.predict(X_test)\n",
    "svm_accuracy = np.round(accuracy_score(y_test, svm_predictions),2)\n",
    "\n",
    "print(\"SVM Accuracy:\", svm_accuracy)\n",
    "print(classification_report(y_test, svm_predictions))\n",
    "#High Accuracy but complex and timeconsuming"
   ]
  },
  {
   "cell_type": "code",
   "execution_count": 11,
   "id": "12048cfb-a11a-4345-9f11-d2b7f815a82a",
   "metadata": {},
   "outputs": [
    {
     "name": "stdout",
     "output_type": "stream",
     "text": [
      "              precision    recall  f1-score   support\n",
      "\n",
      "           0       0.92      0.92      0.92     11966\n",
      "           1       0.41      0.44      0.42      1598\n",
      "\n",
      "    accuracy                           0.86     13564\n",
      "   macro avg       0.67      0.68      0.67     13564\n",
      "weighted avg       0.86      0.86      0.86     13564\n",
      "\n"
     ]
    }
   ],
   "source": [
    "dt=DecisionTreeClassifier(random_state=42)\n",
    "dt.fit(X_train,y_train)\n",
    "\n",
    "dt_pred=dt.predict(X_test)\n",
    "\n",
    "print(classification_report(y_test,dt_pred))"
   ]
  },
  {
   "cell_type": "code",
   "execution_count": 15,
   "id": "3c5460d3",
   "metadata": {
    "papermill": {
     "duration": 0.317783,
     "end_time": "2025-09-19T07:44:17.480077",
     "exception": false,
     "start_time": "2025-09-19T07:44:17.162294",
     "status": "completed"
    },
    "tags": []
   },
   "outputs": [
    {
     "name": "stdout",
     "output_type": "stream",
     "text": [
      "Random Forest Accuracy: 0.9\n",
      "              precision    recall  f1-score   support\n",
      "\n",
      "           0       0.92      0.98      0.95     11966\n",
      "           1       0.66      0.32      0.43      1598\n",
      "\n",
      "    accuracy                           0.90     13564\n",
      "   macro avg       0.79      0.65      0.69     13564\n",
      "weighted avg       0.89      0.90      0.89     13564\n",
      "\n"
     ]
    }
   ],
   "source": [
    "rf_model = RandomForestClassifier(n_estimators=50, n_jobs=-1, max_depth=10, random_state=42)\n",
    "rf_model.fit(X_train, y_train)\n",
    "\n",
    "rf_predictions = rf_model.predict(X_test)\n",
    "rf_accuracy = np.round(accuracy_score(y_test, rf_predictions),2)\n",
    "\n",
    "print(\"Random Forest Accuracy:\", rf_accuracy)\n",
    "\n",
    "print(classification_report(y_test, rf_predictions))\n"
   ]
  },
  {
   "cell_type": "code",
   "execution_count": 16,
   "id": "c7031f54",
   "metadata": {
    "papermill": {
     "duration": 0.31325,
     "end_time": "2025-09-19T07:44:18.774472",
     "exception": false,
     "start_time": "2025-09-19T07:44:18.461222",
     "status": "completed"
    },
    "tags": []
   },
   "outputs": [
    {
     "data": {
      "image/png": "[encoded data removed]",
      "text/plain": [
       "<Figure size 400x300 with 1 Axes>"
      ]
     },
     "metadata": {},
     "output_type": "display_data"
    },
    {
     "data": {
      "image/png": "[encoded data removed]",
      "text/plain": [
       "<Figure size 300x400 with 1 Axes>"
      ]
     },
     "metadata": {},
     "output_type": "display_data"
    }
   ],
   "source": [
    "from sklearn.metrics import confusion_matrix\n",
    "import seaborn as sns\n",
    "\n",
    "# Step 1: SVM Confusion Matrix\n",
    "svm_conf_matrix = confusion_matrix(y_test, svm_predictions)\n",
    "plt.figure(figsize=(4,3))\n",
    "sns.heatmap(svm_conf_matrix, annot=True, fmt='d', cmap='Blues', cbar=False)\n",
    "plt.title('SVM Confusion Matrix')\n",
    "plt.xlabel('Predicted')\n",
    "plt.ylabel('True')\n",
    "plt.show()\n",
    "\n",
    "# Step 2: Random Forest Confusion Matrix\n",
    "rf_conf_matrix = confusion_matrix(y_test, rf_predictions)\n",
    "plt.figure(figsize=(3,4))\n",
    "sns.heatmap(rf_conf_matrix, annot=True, fmt='d', cmap='Blues', cbar=False)\n",
    "plt.title('Random Forest Confusion Matrix')\n",
    "plt.xlabel('Predicted')\n",
    "plt.ylabel('True')\n",
    "plt.show()"
   ]
  },
  {
   "cell_type": "code",
   "execution_count": 17,
   "id": "ccbb872b",
   "metadata": {
    "papermill": {
     "duration": 0.04483,
     "end_time": "2025-09-19T07:44:18.835160",
     "exception": false,
     "start_time": "2025-09-19T07:44:18.790330",
     "status": "completed"
    },
    "tags": []
   },
   "outputs": [],
   "source": [
    "from sklearn.metrics import precision_score, recall_score, f1_score, accuracy_score\n",
    "\n",
    "# Calculate metrics for each model\n",
    "svm_accuracy = accuracy_score(y_test, svm_predictions)\n",
    "rf_accuracy = accuracy_score(y_test, rf_predictions)\n",
    "\n",
    "svm_precision = precision_score(y_test, svm_predictions)\n",
    "rf_precision = precision_score(y_test, rf_predictions)\n",
    "\n",
    "svm_recall = recall_score(y_test, svm_predictions)\n",
    "rf_recall = recall_score(y_test, rf_predictions)\n",
    "\n",
    "svm_f1 = f1_score(y_test, svm_predictions)\n",
    "rf_f1 = f1_score(y_test, rf_predictions)\n"
   ]
  },
  {
   "cell_type": "code",
   "execution_count": 18,
   "id": "071dfe26",
   "metadata": {
    "papermill": {
     "duration": 0.02793,
     "end_time": "2025-09-19T07:44:18.879263",
     "exception": false,
     "start_time": "2025-09-19T07:44:18.851333",
     "status": "completed"
    },
    "tags": []
   },
   "outputs": [
    {
     "name": "stdout",
     "output_type": "stream",
     "text": [
      "               Accuracy  Precision    Recall  F1-Score\n",
      "Model                                                 \n",
      "SVM            0.898997   0.659218  0.295369  0.407952\n",
      "Random Forest  0.900767   0.662371  0.321652  0.433024\n"
     ]
    }
   ],
   "source": [
    "# Create a dictionary with the evaluation metrics for each model\n",
    "metrics_dict = {\n",
    "    'Model': ['SVM', 'Random Forest'],  # List of models\n",
    "    'Accuracy': [svm_accuracy, rf_accuracy],  # Accuracy for each model\n",
    "    'Precision': [svm_precision, rf_precision],  # Precision for each model\n",
    "    'Recall': [svm_recall, rf_recall],  # Recall for each model\n",
    "    'F1-Score': [svm_f1, rf_f1],  # F1-Score for each model\n",
    "}\n",
    "\n",
    "# Convert the dictionary into a DataFrame\n",
    "metrics_df = pd.DataFrame(metrics_dict)\n",
    "\n",
    "# Set 'Model' column as index for better visualization\n",
    "metrics_df.set_index('Model', inplace=True)\n",
    "\n",
    "# Display the metrics table for reference\n",
    "print(metrics_df)\n"
   ]
  },
  {
   "cell_type": "code",
   "execution_count": 53,
   "id": "c5a87e83-75cf-4103-a4dc-5310812ec233",
   "metadata": {},
   "outputs": [
    {
     "name": "stdout",
     "output_type": "stream",
     "text": [
      "0.6693969898441914\n"
     ]
    }
   ],
   "source": [
    "from sklearn.metrics import roc_auc_score,roc_curve\n",
    "rf_rocauc_score = roc_auc_score(y_test, rf_predictions) #Calculate Roc\n",
    "print(rf_rocauc_score)"
   ]
  },
  {
   "cell_type": "code",
   "execution_count": 54,
   "id": "7e0b2ad6-ae3d-41cb-b878-4e20198cd776",
   "metadata": {},
   "outputs": [
    {
     "data": {
      "image/png": "[encoded data removed]",
      "text/plain": [
       "<Figure size 640x480 with 1 Axes>"
      ]
     },
     "metadata": {},
     "output_type": "display_data"
    }
   ],
   "source": [
    "rf_roc=np.round(rf_rocauc_score,4)\n",
    "# Compute False postive rate, and True positive rate\n",
    "fpr, tpr, thresholds = roc_curve(y_test, rf_model.predict_proba(X_test)[:,1])\n",
    "# Calculate Area under the curve to display on the plot\n",
    "plt.plot(fpr, tpr, label=rf_roc)\n",
    "# Custom settings for the plot \n",
    "plt.plot([0, 1], [0, 1],'r--')\n",
    "plt.xlim([0.0, 1.0])\n",
    "plt.ylim([0.0, 1.05])\n",
    "plt.xlabel('1-Specificity(False Positive Rate)')\n",
    "plt.ylabel('Sensitivity(True Positive Rate)')\n",
    "plt.title('Receiver Operating Characteristic')\n",
    "plt.legend(loc=\"lower right\")\n",
    "plt.savefig(\"auc.png\")\n",
    "plt.show() "
   ]
  },
  {
   "cell_type": "code",
   "execution_count": 58,
   "id": "794fd741-7db8-47ec-ba09-b9d2ca0e3db2",
   "metadata": {},
   "outputs": [
    {
     "data": {
      "text/plain": [
       "['rf_model.pkl']"
      ]
     },
     "execution_count": 58,
     "metadata": {},
     "output_type": "execute_result"
    }
   ],
   "source": [
    "import joblib\n",
    "joblib.dump(rf_model,'rf_model.pkl')"
   ]
  }
 ],
 "metadata": {
  "kaggle": {
   "accelerator": "gpu",
   "dataSources": [
    {
     "datasetId": 4471,
     "sourceId": 6849,
     "sourceType": "datasetVersion"
    }
   ],
   "dockerImageVersionId": 31090,
   "isGpuEnabled": true,
   "isInternetEnabled": true,
   "language": "python",
   "sourceType": "notebook"
  },
  "kernelspec": {
   "display_name": "Python 3 (ipykernel)",
   "language": "python",
   "name": "python3"
  },
  "language_info": {
   "codemirror_mode": {
    "name": "ipython",
    "version": 3
   },
   "file_extension": ".py",
   "mimetype": "text/x-python",
   "name": "python",
   "nbconvert_exporter": "python",
   "pygments_lexer": "ipython3",
   "version": "3.12.4"
  },
  "papermill": {
   "default_parameters": {},
   "duration": 21.077533,
   "end_time": "2025-09-19T07:44:20.051847",
   "environment_variables": {},
   "exception": null,
   "input_path": "__notebook__.ipynb",
   "output_path": "__notebook__.ipynb",
   "parameters": {},
   "start_time": "2025-09-19T07:43:58.974314",
   "version": "2.6.0"
  }
 },
 "nbformat": 4,
 "nbformat_minor": 5
}
